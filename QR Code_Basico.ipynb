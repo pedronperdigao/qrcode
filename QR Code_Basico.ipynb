{
 "cells": [
  {
   "cell_type": "code",
   "execution_count": 5,
   "id": "b18a89eb",
   "metadata": {},
   "outputs": [
    {
     "name": "stdout",
     "output_type": "stream",
     "text": [
      "qual o link?https://twitter.com/ojogo\n",
      "qual o nome da imagem?TW_ojogo\n"
     ]
    }
   ],
   "source": [
    "#importar a libraria\n",
    "\n",
    "import qrcode\n",
    "\n",
    "\n",
    "#criar as variaveis\n",
    "\n",
    "link= input(\"qual o link?\")\n",
    "nome=input(\"qual o nome da imagem?\")\n",
    "\n",
    "\n",
    "#transformar link em qrcode\n",
    "\n",
    "img = qrcode.make(link)\n",
    "\n",
    "\n",
    "#guardar o qrcode\n",
    "\n",
    "img.save(nome + \".jpg\")"
   ]
  }
 ],
 "metadata": {
  "kernelspec": {
   "display_name": "Python 3 (ipykernel)",
   "language": "python",
   "name": "python3"
  },
  "language_info": {
   "codemirror_mode": {
    "name": "ipython",
    "version": 3
   },
   "file_extension": ".py",
   "mimetype": "text/x-python",
   "name": "python",
   "nbconvert_exporter": "python",
   "pygments_lexer": "ipython3",
   "version": "3.9.7"
  }
 },
 "nbformat": 4,
 "nbformat_minor": 5
}
